{
  "nbformat": 4,
  "nbformat_minor": 0,
  "metadata": {
    "colab": {
      "provenance": []
    },
    "kernelspec": {
      "name": "python3",
      "display_name": "Python 3"
    },
    "language_info": {
      "name": "python"
    }
  },
  "cells": [
    {
      "cell_type": "code",
      "source": [
        "# Exercises on Complex Vector and Matrix Operations\n",
        "\n",
        "This set of exercises is designed to test your understanding of various concepts related to complex vector and matrix operations, which are foundational in quantum computing. Each exercise presents a concrete case for you to apply what you've learned about Hermitian matrices, Unitary matrices, and tensor products.\n",
        "\n",
        "NOTE: VERIFY YOUR COMPUTATIONS IN PAPER AND IN THE COMPUTER.\n",
        "\n",
        "## Exercise 1: Complex Hermitian Matrices\n",
        "\n",
        "Consider the matrix:\n",
        "\n",
        "$$ H = \\begin{bmatrix} 3 & 2+i \\\\ 2-i & 1 \\end{bmatrix} $$\n",
        "\n",
        "- Verify if $ H $ is a Hermitian matrix.\n",
        "- If it is, find its eigenvalues.\n",
        "\n",
        "\n"
      ],
      "metadata": {
        "id": "DMK8HFT9q1OL"
      },
      "execution_count": null,
      "outputs": []
    },
    {
      "cell_type": "markdown",
      "source": [
        "# Exercises on Complex Vector and Matrix Operations\n",
        "\n",
        "This set of exercises is designed to test your understanding of various concepts related to complex vector and matrix operations, which are foundational in quantum computing. Each exercise presents a concrete case for you to apply what you've learned about Hermitian matrices, Unitary matrices, and tensor products.\n",
        "\n",
        "NOTE: VERIFY YOUR COMPUTATIONS IN PAPER AND IN THE COMPUTER.\n",
        "\n",
        "## Exercise 1: Complex Hermitian Matrices\n",
        "\n",
        "Consider the matrix:\n",
        "\n",
        "$$ H = \\begin{bmatrix} 3 & 2+i \\\\ 2-i & 1 \\end{bmatrix} $$\n",
        "\n",
        "- Verify if $ H $ is a Hermitian matrix.\n",
        "- If it is, find its eigenvalues.\n",
        "\n",
        "## Exercise 2: Complex Unitary Matrices\n",
        "\n",
        "Consider the matrix:\n",
        "\n",
        "$$ U = \\frac{1}{\\sqrt{2}}\\begin{bmatrix} 1 & i \\\\ i & 1 \\end{bmatrix} $$\n",
        "\n",
        "- Verify if $ U $ is a Unitary matrix.\n",
        "- Compute $ UU^\\dagger $ to confirm its Unitarity, where $ U^\\dagger $ denotes the conjugate transpose of $ U $.\n",
        "\n",
        "## Exercise 3: Tensor Product for Complex Vectors\n",
        "\n",
        "Given the complex vectors:\n",
        "\n",
        "$$ \\mathbf{v} = \\begin{bmatrix} 1+i \\\\ 2-i \\end{bmatrix}, \\quad \\mathbf{w} = \\begin{bmatrix} 1-2i \\\\ 3 \\end{bmatrix} $$\n",
        "\n",
        "Calculate the tensor product $ \\mathbf{v} \\otimes \\mathbf{w} $.\n",
        "\n",
        "## Exercise 4: Tensor Product for Complex Matrices\n",
        "\n",
        "Given the matrices:\n",
        "\n",
        "$$ M_1 = \\begin{bmatrix} 0 & 1 \\\\ 1 & 0 \\end{bmatrix}, \\quad M_2 = \\begin{bmatrix} i & 0 \\\\ 0 & -i \\end{bmatrix} $$\n",
        "\n",
        "Calculate the tensor product $ M_1 \\otimes M_2 $.\n",
        "\n",
        "## Exercise 5: Modelling quantum computations with vectors and matrices\n",
        "\n",
        "Using matrices and vectors, implement a model of the Mach/Zehnder interferometer.\n",
        "\n",
        "![Mach-Zehnder interferometer](images/Mach-Zehnder-Interferometer.png)\n",
        "\n",
        "## Exercise 6: Composing quantum systems\n",
        "\n",
        "Using matrices and vectors, implement a model of the following circuit.\n",
        "\n",
        "![Mach-Zehnder interferometer](images/Deutsch-Algorithm.png)\n",
        "\n",
        "Use the following MAtrix for $U_f$:\n",
        "\n",
        "![Mach-Zehnder interferometer](images/ExampleUf.png)\n",
        "\n"
      ],
      "metadata": {
        "id": "hyDT1iimrKVg"
      }
    },
    {
      "cell_type": "code",
      "source": [
        "import numpy as np\n",
        "#Exercise 1:\n",
        "# Define a complex Hermitian matrix\n",
        "hermitian_matrix = np.array([[3+0j, 2+1j], [2-1j, 1+0j]])\n",
        "# Check if the matrix is Hermitian\n",
        "is_hermitian = np.allclose(hermitian_matrix, hermitian_matrix.conj().T)\n",
        "is_hermitian, hermitian_matrix\n",
        "print(np.linalg.norm(hermitian_matrix))\n",
        "\n",
        "#Exercise 2:\n",
        "\n",
        "\n",
        "# Define a complex Unitary matrix\n",
        "unitary_matrix = np.array([[1/np.sqrt(2), 1/np.sqrt(2)*1j], [1/np.sqrt(2)*1j, 1/np.sqrt(2)]])\n",
        "# Check if the matrix is Unitary\n",
        "# np.eye(2) returns the identity of size 2x2\n",
        "is_unitary = np.allclose(np.dot(unitary_matrix, unitary_matrix.conj().T), np.eye(2))\n",
        "\n",
        "is_unitary, unitary_matrix\n",
        "\n",
        "\n",
        "\n"
      ],
      "metadata": {
        "colab": {
          "base_uri": "https://localhost:8080/"
        },
        "id": "OkdRKKOPsf3M",
        "outputId": "b844022d-1c6a-4428-a7b3-f0e1944de1e4"
      },
      "execution_count": 10,
      "outputs": [
        {
          "output_type": "stream",
          "name": "stdout",
          "text": [
            "4.47213595499958\n"
          ]
        },
        {
          "output_type": "execute_result",
          "data": {
            "text/plain": [
              "(True,\n",
              " array([[0.70710678+0.j        , 0.        +0.70710678j],\n",
              "        [0.        +0.70710678j, 0.70710678+0.j        ]]))"
            ]
          },
          "metadata": {},
          "execution_count": 10
        }
      ]
    },
    {
      "cell_type": "code",
      "source": [
        "import cmath\n",
        "import numpy as np\n",
        "\n",
        "vector1 = np.array([1+2j, 3-1j])\n",
        "vector2 = np.array([2-1j, 4+2j])\n",
        "\n",
        "result = vector1 + vector2\n",
        "\n",
        "print (vector1, \"+\" ,vector2 ,\"=\" ,result)\n"
      ],
      "metadata": {
        "colab": {
          "base_uri": "https://localhost:8080/"
        },
        "id": "2HisS28ayAch",
        "outputId": "69317ae9-5775-4063-cdb8-1a678ebeac38"
      },
      "execution_count": 6,
      "outputs": [
        {
          "output_type": "stream",
          "name": "stdout",
          "text": [
            "[1.+2.j 3.-1.j] + [2.-1.j 4.+2.j] = [3.+1.j 7.+1.j]\n"
          ]
        }
      ]
    }
  ]
}