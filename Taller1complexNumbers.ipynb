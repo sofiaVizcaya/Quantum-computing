{
  "nbformat": 4,
  "nbformat_minor": 0,
  "metadata": {
    "colab": {
      "provenance": []
    },
    "kernelspec": {
      "name": "python3",
      "display_name": "Python 3"
    },
    "language_info": {
      "name": "python"
    }
  },
  "cells": [
    {
      "cell_type": "markdown",
      "source": [
        "# Complex numbers\n",
        "\n",
        "By: Luis Daniel Benavides N. (V1.0 26-01-2024)\n",
        "\n",
        "## Tutorial Outline\n",
        "\n",
        "1. Introduction to Complex Numbers\n",
        "    - Definition and notation\n",
        "    - Real and imaginary parts\n",
        "\n",
        "2. Basic Operations with Complex Numbers\n",
        "    - Addition, subtraction, multiplication, division\n",
        "    - Conjugate and absolute value\n",
        "\n",
        "3. Complex Numbers in Python\n",
        "    - Using Python's complex type\n",
        "    - Basic operations in Python\n",
        "  \n",
        "4. Polar Representation of Complex Numbers\n",
        "    - Polar representation\n",
        "    - Euler notation\n",
        "\n",
        "6. Application: Fractals and Complex Numbers\n",
        "    - Introduction to fractals\n",
        "    - Generating a Mandelbrot set\n",
        "\n",
        "7. Exercises for Students\n",
        "    - Practice problems on complex number operations\n",
        "    - Creating a Julia set fractal\n",
        "\n",
        "\n",
        "\n"
      ],
      "metadata": {
        "id": "TmThHq5dRjO7"
      }
    },
    {
      "cell_type": "markdown",
      "source": [
        "# 1. Introduction to Complex Numbers\n",
        "    - Definition and notation\n",
        "    - Real and imaginary parts\n",
        "\n",
        "Complex numbers are an extension of the real numbers and are fundamental in advanced mathematics and engineering. They provide a solution to equations that have no real solutions, such as the square root of negative numbers.\n",
        "\n",
        "## Definition\n",
        "\n",
        "A complex number is defined as a number of the form $ a + bi $, where:\n",
        "\n",
        "- $ a $ and $ b $ are real numbers,\n",
        "- $ i $ is the imaginary unit with the property $ i² = -1 $.\n",
        "\n",
        "The real part of the complex number is $ a $, and the imaginary part is $ b $.\n",
        "\n",
        "## Imaginary Unit\n",
        "\n",
        "The imaginary unit $ i $ is defined by its property $ i² = -1 $. It allows the definition of complex numbers and facilitates the computation of the square root of negative numbers. For example, the square root of -1 is represented as $ i $, and the square root of -4 is $ 2i $.\n",
        "\n",
        "## Complex Plane\n",
        "\n",
        "The complex plane is a two-dimensional plane where complex numbers are graphed. The horizontal axis represents the real part, and the vertical axis represents the imaginary part.\n",
        "\n",
        "## Applications\n",
        "\n",
        "Complex numbers have applications in various fields, including engineering, physics, computer science, and more. They are especially useful in representing oscillations, waves, and other phenomena involving two-dimensional quantities.\n"
      ],
      "metadata": {
        "id": "1uF0iotcSr5h"
      }
    },
    {
      "cell_type": "markdown",
      "source": [
        "## Software Requirements\n",
        "\n",
        "    - numpy\n",
        "    - matplotlib\n",
        "    - ipywidgets"
      ],
      "metadata": {
        "id": "HUj03cKqSeOl"
      }
    },
    {
      "cell_type": "markdown",
      "source": [
        "# 2. Basic Operations with Complex Numbers\n",
        "\n",
        "    Addition, subtraction, multiplication, division\n",
        "    Conjugate and modulus value\n",
        "\n",
        "## Algebraic Operations\n",
        "\n",
        "Complex numbers can be added, subtracted, multiplied, and divided:\n",
        "\n",
        "- **Addition**: $+: \\mathbb{C} \\times \\mathbb{C}   \\rightarrow \\mathbb{C}:  (a_1+b_1i) + (a_2+b_2i) = (a_1+a_2) + (b_1+b_2)i$\n",
        "- **Subtraction**: $-: \\mathbb{C} \\times \\mathbb{C}   \\rightarrow \\mathbb{C}: (a + bi) - (c + di) = (a - c) + (b - d)i $\n",
        "- **Multiplication**: $+: \\mathbb{C} \\times \\mathbb{C}   \\rightarrow \\mathbb{C}: (a + bi)(c + di) = (ac - bd) + (ad + bc)i $\n",
        "- **Division**: $/: \\mathbb{C} \\times \\mathbb{C}   \\rightarrow \\mathbb{C}: \\frac{a + bi}{c + di} = \\frac{(ac + bd) + (bc - ad)i}{c² + d²} $\n",
        "\n",
        "## Complex Conjugate\n",
        "\n",
        "The complex conjugate of a complex number \\( a + bi \\) is \\( a - bi \\). It is obtained by changing the sign of the imaginary part. This concept is particularly useful in division and in finding the magnitude of complex numbers.\n",
        "\n",
        "$$ \\text{ }^{-} : \\mathbb{C} \\rightarrow \\mathbb{C} : \\bar c = \\overline {a + bi} = a -bi $$\n",
        "\n",
        "## Magnitude (Modulus)\n",
        "\n",
        "The magnitude (or modulus) of a complex number \\( a + bi \\) is given by \\( \\sqrt{a² + b²} \\). It represents the distance of the complex number from the origin in the complex plane.\n",
        "\n",
        "$$| \\text{ }| : \\mathbb{C} \\rightarrow \\mathbb{R} : |c| = |a + bi| = + \\sqrt{a^2+b^2}$$\n",
        "\n"
      ],
      "metadata": {
        "id": "HJUEG4SKS_dN"
      }
    },
    {
      "cell_type": "markdown",
      "source": [
        "# 3. Complex Numbers in Python\n",
        "    - Using Python's complex type\n",
        "    - Basic operations in Python"
      ],
      "metadata": {
        "id": "osXb55AXTJrt"
      }
    },
    {
      "cell_type": "code",
      "source": [
        "# Example: Complex number operations in Python\n",
        "\n",
        "# Creating complex numbers\n",
        "z1 = complex(2, 3)  # 2 + 3j\n",
        "z2 = complex(1, -1) # 1 - 1j\n",
        "z3 = 2 + 2j\n",
        "\n",
        "# Basic operations\n",
        "print(\"Addition:\", z1 + z2)\n",
        "print(\"Subtraction:\", z1 - z2)\n",
        "print(\"Multiplication:\", z1 * z2)\n",
        "print(\"Division:\", z1 / z2)\n",
        "\n",
        "# Conjugate and absolute value\n",
        "print(\"Conjugate of z1:\", z1.conjugate())\n",
        "print(\"Absolute value of z1:\", abs(z1))\n",
        "print(\"Absolute value of z1:\", abs(z2))\n",
        "print(\"Absolute value of z1:\", abs(z3))\n"
      ],
      "metadata": {
        "id": "wZsjQzwkTPs8"
      },
      "execution_count": null,
      "outputs": []
    },
    {
      "cell_type": "markdown",
      "source": [
        "# 4. Polar Representation of Complex Numbers\n",
        "\n",
        "In addition to the rectangular form (a + bi), complex numbers can also be represented in polar form. The polar form of a complex number expresses it in terms of a magnitude (r) and an angle (θ), and is written as `r(cos θ + i sin θ)` or `r∠θ`. This form is particularly useful in quantum computing, signal processing, and other fields where phase and amplitude are important.\n",
        "\n",
        "## Key Concepts\n",
        "- **Magnitude (r)**: The distance of the complex number from the origin in the complex plane, calculated as `sqrt(a^2 + b^2)`.\n",
        "- **Angle (θ)**: The counterclockwise angle measured from the positive x-axis to the line segment that joins the point to the origin, often given in radians.\n",
        "- **Euler's Formula**: `e^(iθ) = cos θ + i sin θ`, which allows the polar form to be written as `r * e^(iθ)`.\n",
        "\n",
        "## Converting between Rectangular and Polar Forms\n",
        "- To convert from rectangular to polar form, use `r = sqrt(a^2 + b^2)` and `θ = atan2(b, a)`.\n",
        "- To convert from polar to rectangular form, use `a = r * cos(θ)` and `b = r * sin(θ)`.\n",
        "\n",
        "## Python Implementation\n",
        "Use Python's `cmath` module for working with complex numbers in polar form.\n"
      ],
      "metadata": {
        "id": "DJ0U--7ITxr8"
      }
    },
    {
      "cell_type": "code",
      "source": [
        "import cmath\n",
        "\n",
        "# Example: Converting a complex number to its polar form and back\n",
        "\n",
        "# Define a complex number in rectangular form\n",
        "z = complex(3, 4)\n",
        "\n",
        "# Convert to polar form\n",
        "r, theta = cmath.polar(z)\n",
        "print(f\"Polar form: Magnitude = {r}, Angle = {theta} radians\")\n",
        "\n",
        "# Convert back to rectangular form\n",
        "rectangular_form = cmath.rect(r, theta)\n",
        "print(f\"Rectangular form: {rectangular_form}\")"
      ],
      "metadata": {
        "id": "IMMD8_Z0UL5h"
      },
      "execution_count": null,
      "outputs": []
    },
    {
      "cell_type": "code",
      "source": [],
      "metadata": {
        "id": "aNJPjc4f7ltZ"
      },
      "execution_count": null,
      "outputs": []
    },
    {
      "cell_type": "markdown",
      "source": [
        "## An interactive tool for polar and cartesian conversion"
      ],
      "metadata": {
        "id": "1MU9OWv8UdPM"
      }
    },
    {
      "cell_type": "code",
      "source": [
        "import cmath\n",
        "import matplotlib.pyplot as plt\n",
        "import numpy as np\n",
        "import ipywidgets as widgets\n",
        "from IPython.display import display\n",
        "\n",
        "def convert_and_plot(real=0, imaginary=0, magnitude=0, angle=0, convert_to='polar'):\n",
        "    if convert_to == 'polar':\n",
        "        z = complex(real, imaginary)\n",
        "        r, theta = cmath.polar(z)\n",
        "        display_text = f\"Cartesian: ({real}, {imaginary}) -> Polar: (r={r:.2f}, θ={np.degrees(theta):.2f}°)\"\n",
        "    else:\n",
        "        z = cmath.rect(magnitude, np.radians(angle))\n",
        "        display_text = f\"Polar: (r={magnitude}, θ={angle}°) -> Cartesian: ({z.real:.2f}, {z.imag:.2f})\"\n",
        "\n",
        "    fig, ax = plt.subplots()\n",
        "    ax.plot([0, z.real], [0, z.imag], 'ro-')\n",
        "    ax.set_xlim(-5, 5)\n",
        "    ax.set_ylim(-5, 5)\n",
        "    ax.set_xlabel('Real')\n",
        "    ax.set_ylabel('Imaginary')\n",
        "    ax.axhline(0, color='black',linewidth=0.5)\n",
        "    ax.axvline(0, color='black',linewidth=0.5)\n",
        "    ax.grid(True)\n",
        "    plt.title(display_text)\n",
        "    plt.show()\n",
        "\n",
        "style = {'description_width': 'initial'}\n",
        "layout = widgets.Layout(width='400px')\n",
        "\n",
        "# Creating interactive widgets\n",
        "real_slider = widgets.FloatSlider(min=-5, max=5, step=0.1, value=0, description='Real Part:', style=style, layout=layout)\n",
        "imaginary_slider = widgets.FloatSlider(min=-5, max=5, step=0.1, value=0, description='Imaginary Part:', style=style, layout=layout)\n",
        "magnitude_slider = widgets.FloatSlider(min=0, max=5, step=0.1, value=1, description='Magnitude:', style=style, layout=layout)\n",
        "angle_slider = widgets.FloatSlider(min=-180, max=180, step=1, value=0, description='Angle (degrees):', style=style, layout=layout)\n",
        "convert_dropdown = widgets.Dropdown(options=['polar', 'cartesian'], value='polar', description='Convert to:', style=style, layout=layout)\n",
        "\n",
        "# Interactive function\n",
        "\n",
        "ui = widgets.VBox([widgets.HBox([real_slider, imaginary_slider]),\n",
        "                   widgets.HBox([magnitude_slider, angle_slider]),\n",
        "                   convert_dropdown])\n",
        "out = widgets.interactive_output(convert_and_plot, {'real': real_slider, 'imaginary': imaginary_slider,\n",
        "                                                    'magnitude': magnitude_slider, 'angle': angle_slider,\n",
        "                                                    'convert_to': convert_dropdown})\n",
        "\n",
        "display(ui, out)\n"
      ],
      "metadata": {
        "id": "VKjaBEGBUhp2"
      },
      "execution_count": null,
      "outputs": []
    },
    {
      "cell_type": "markdown",
      "source": [
        "## Euler's Notation for Complex Numbers\n",
        "\n",
        "Euler's formula is a fundamental equation in complex analysis and provides a deep connection between trigonometry and complex exponential functions. It states that for any real number `x`, the following identity holds:\n",
        "\n",
        "$$ e^{ix} = \\cos(x) + i\\sin(x) $$\n",
        "\n",
        "This equation is known as Euler's formula. In this formula, `e` is the base of the natural logarithm, `i` is the imaginary unit, and `cos` and `sin` are the trigonometric functions cosine and sine respectively. The formula is often used in the polar representation of complex numbers.\n",
        "\n",
        "### Polar Representation Using Euler's Formula\n",
        "\n",
        "A complex number can be represented in polar coordinates as `r(cos θ + i sin θ)`. Using Euler's formula, this can be written in the more compact form:\n",
        "\n",
        "$$ z = r \\cdot e^{iθ} $$\n",
        "\n",
        "where `r` is the magnitude (modulus) of the complex number, and `θ` is the angle formed with the positive real axis, often referred to as the argument of the complex number.\n",
        "\n",
        "### Applications\n",
        "\n",
        "Euler's formula is widely used in various fields such as electrical engineering, quantum mechanics, and signal processing. It simplifies the analysis of waveforms, oscillations, and rotating systems."
      ],
      "metadata": {
        "id": "t4f7aOV8VHGH"
      }
    },
    {
      "cell_type": "code",
      "source": [
        "import cmath\n",
        "import numpy as np\n",
        "\n",
        "# Example to demonstrate Euler's notation for complex numbers\n",
        "\n",
        "# Define magnitude and angle\n",
        "r = 2.0  # Magnitude\n",
        "theta = np.pi / 4  # Angle in radians (45 degrees)\n",
        "\n",
        "# Using Euler's formula: z = r * e^(iθ)\n",
        "z = r * cmath.exp(complex(0, theta))\n",
        "\n",
        "print(f\"Complex number using Euler's notation: {z}\")\n",
        "\n",
        "# Verify by converting to Cartesian form\n",
        "real_part = z.real\n",
        "imaginary_part = z.imag\n",
        "print(f\"Cartesian form: {real_part} + {imaginary_part}i\")"
      ],
      "metadata": {
        "id": "5TE7FTNsVxv_"
      },
      "execution_count": null,
      "outputs": []
    },
    {
      "cell_type": "markdown",
      "source": [
        "# 5. Application: Fractals and Complex Numbers\n",
        "    - Introduction to fractals\n",
        "    - Generating a Mandelbrot set\n",
        "\n",
        "## Understanding the Mandelbrot Set\n",
        "\n",
        "The Mandelbrot Set is a fascinating and complex structure in the field of fractal geometry, discovered by mathematician Benoit Mandelbrot in 1980. It's a set of complex numbers that forms an intricate and infinitely detailed boundary when plotted in the complex plane.\n",
        "\n",
        "### What is the Mandelbrot Set?\n",
        "The Mandelbrot Set is defined as the set of complex numbers `c` for which the function `f(z) = z^2 + c` does not diverge when iterated from `z = 0`. In simpler terms, if repeatedly squaring the number and adding `c` never makes the value go to infinity, that number is part of the Mandelbrot Set.\n",
        "\n",
        "### Key Concepts:\n",
        "- **Iteration**: Starting with `z = 0`, we repeatedly apply the function `f(z) = z^2 + c`. The behavior of this sequence determines if `c` is in the Mandelbrot Set.\n",
        "- **Boundedness**: If the sequence remains bounded (doesn't go to infinity), then `c` is in the Mandelbrot Set.\n",
        "- **Escape Time Algorithm**: To visualize the set, we use an algorithm that assigns a color based on how quickly the values reach a certain threshold when iterated. Points inside the set typically remain black.\n",
        "\n",
        "### Properties of the Mandelbrot Set:\n",
        "- **Self-Similarity**: The set is fractal, meaning it contains smaller copies of itself.\n",
        "- **Complex Boundary**: The boundary of the Mandelbrot Set is infinitely complex. Zooming into the boundary reveals more detail.\n",
        "- **Area**: While the exact area of the Mandelbrot Set is unknown, it is finite.\n",
        "- **Connectedness**: Despite its complexity, the set is mathematically proven to be a connected set.\n",
        "\n",
        "### Plotting the Mandelbrot Set:\n",
        "To visualize the set, we iterate over a grid of complex numbers and use the escape time algorithm to color each point. Points that remain bounded (do not escape) after a set number of iterations are considered part of the Mandelbrot Set and are usually colored black.\n",
        "\n",
        "The beauty of the Mandelbrot Set lies not just in its visual complexity, but also in the way it bridges mathematics, art, and computer science. It serves as a powerful example of how simple rules can lead to incredibly intricate structures.\n"
      ],
      "metadata": {
        "id": "2VL3vFqGWDTn"
      }
    },
    {
      "cell_type": "code",
      "source": [
        "# Example: Generating a Mandelbrot set\n",
        "\n",
        "import numpy as np\n",
        "import matplotlib.pyplot as plt\n",
        "\n",
        "def mandelbrot(c, max_iter):\n",
        "    z = 0\n",
        "    for n in range(max_iter):\n",
        "        if abs(z) > 2:\n",
        "            return n\n",
        "        z = z*z + c\n",
        "    return max_iter\n",
        "\n",
        "# Create a grid of complex numbers\n",
        "pixels = 800\n",
        "max_iter = 30\n",
        "x = np.linspace(-2, 1, pixels)\n",
        "y = np.linspace(-1.5, 1.5, pixels)\n",
        "xx, yy = np.meshgrid(x, y)\n",
        "c = xx + yy*1j\n",
        "\n",
        "# Compute Mandelbrot set\n",
        "mandelbrot_set = np.array([mandelbrot(ci, max_iter) for ci in c.ravel()]).reshape(c.shape)\n",
        "\n",
        "# Plot\n",
        "plt.imshow(mandelbrot_set, extent=[-2, 1, -1.5, 1.5])\n",
        "plt.colorbar()\n",
        "plt.title(\"Mandelbrot Set\")\n",
        "plt.show()"
      ],
      "metadata": {
        "id": "VC9TVLBtWNcW"
      },
      "execution_count": null,
      "outputs": []
    },
    {
      "cell_type": "markdown",
      "source": [
        "# 6. Exercises for Students\n",
        "    - Practice problems on complex number operations\n",
        "    - Creating a Julia set fractal"
      ],
      "metadata": {
        "id": "TX3Wu2CKjqIV"
      }
    },
    {
      "cell_type": "markdown",
      "source": [
        "\n",
        "## Exercise 1: Basic Complex Number Operations\n",
        "1. Manually calculate and then verify using Python the result of `(3 + 4j) + (1 - 2j)`, `(5 + 6j) * (7 - 8j)`, and `(2 - 3j) / (1 + 4j)`.\n",
        "2. Find the conjugate and modulus of `(3 - 4j)`.\n",
        "\n",
        "## Exercise 2: Visualizing Complex Operations\n",
        "1. Write a Python function to plot a complex number on the complex plane. Use it to plot `(3 + 4j)` and its conjugate.\n",
        "2. Extend the function to show addition and multiplication of two complex numbers graphically.\n",
        "\n",
        "## Exercise 3: Exploring the Mandelbrot Set\n",
        "1. Modify the provided Mandelbrot set code to change its zoom level and center point. Observe how the fractal pattern changes.\n",
        "2. Experiment with different values of `max_iter` and observe the effect on the fractal's detail and computation time.\n",
        "\n",
        "## Exercise 4: Creating a Julia Set\n",
        "1. Implement a Julia set generator. Use a constant like `-0.4 + 0.6j` for the iteration `z = z*z + constant`.\n",
        "2. Explore how changing the constant changes the pattern of the Julia set.\n",
        "\n",
        "## Exercise 5: Complex Number Properties\n",
        "1. Prove that the absolute value of a product of two complex numbers is the product of their absolute values.\n",
        "2. Show that the conjugate of a sum of two complex numbers is the sum of their conjugates.\n",
        "\n"
      ],
      "metadata": {
        "id": "RdD_j_Ffj24H"
      }
    },
    {
      "cell_type": "code",
      "source": [
        "#Exercise 1:\n",
        "print(\"Exercise #1:\")\n",
        "print(\"   a: (3 + 4j) + (1 - 2j)\")\n",
        "print((complex(3, 4)) + (complex(1, -2)))\n",
        "print(\"   b: (5 + 6j) * (7 - 8j)\")\n",
        "print((complex(5, 6)) * (complex(7, -8)))\n",
        "print(\"   c: (2 - 3j) / (1 + 4j)\")\n",
        "print((complex(2, -3)) / (complex(1, 4)))\n",
        "print(\"   Find the conjugate and modulus of (3 - 4j)\")\n",
        "a = complex(3, -4)\n",
        "print(a.conjugate())\n",
        "print(abs(a))\n",
        "#Exercise 2:\n",
        "\n",
        "\n",
        "\n",
        "b = complex(3,3)\n",
        "print(abs(b))\n",
        "\n",
        "\n",
        "\n",
        "\n",
        "\n"
      ],
      "metadata": {
        "colab": {
          "base_uri": "https://localhost:8080/"
        },
        "id": "jAfHkMajjq-j",
        "outputId": "b8112db9-9425-4813-cf3d-2d1b368c5528"
      },
      "execution_count": null,
      "outputs": [
        {
          "output_type": "stream",
          "name": "stdout",
          "text": [
            "Exercise #1:\n",
            "   a: (3 + 4j) + (1 - 2j)\n",
            "(4+2j)\n",
            "   b: (5 + 6j) * (7 - 8j)\n",
            "(83+2j)\n",
            "   c: (2 - 3j) / (1 + 4j)\n",
            "(-0.5882352941176471-0.6470588235294118j)\n",
            "   Find the conjugate and modulus of (3 - 4j)\n",
            "(3+4j)\n",
            "5.0\n",
            "4.242640687119285\n"
          ]
        }
      ]
    },
    {
      "cell_type": "markdown",
      "source": [],
      "metadata": {
        "id": "ZefmvCsWj9H7"
      }
    },
    {
      "cell_type": "code",
      "source": [
        "import cmath\n",
        "import matplotlib.pyplot as plt\n",
        "import numpy as np\n",
        "\n",
        "a = complex(3, 4)\n",
        "Real_part = np.array([0, 3])\n",
        "Complex_part = np.array([0, 4])\n",
        "\n",
        "plt.plot(Real_part, Complex_part)\n",
        "plt.show\n",
        "\n",
        "b = a.conjugate()\n",
        "Real_part_1 = np.array([0, 3])\n",
        "Complex_part_1 = np.array([0, -4])\n",
        "\n",
        "plt.plot(Real_part_1, Complex_part_1)"
      ],
      "metadata": {
        "colab": {
          "base_uri": "https://localhost:8080/",
          "height": 447
        },
        "id": "Y8jmo9Wl8YWP",
        "outputId": "a7d0f245-16d5-4e4f-f1f3-c131bf831fec"
      },
      "execution_count": null,
      "outputs": [
        {
          "output_type": "execute_result",
          "data": {
            "text/plain": [
              "[<matplotlib.lines.Line2D at 0x7ef290049540>]"
            ]
          },
          "metadata": {},
          "execution_count": 18
        },
        {
          "output_type": "display_data",
          "data": {
            "text/plain": [
              "<Figure size 640x480 with 1 Axes>"
            ],
            "image/png": "[encoded data removed]"
          },
          "metadata": {}
        }
      ]
    },
    {
      "cell_type": "code",
      "source": [
        "# Example: Generating a Mandelbrot set\n",
        "\n",
        "import numpy as np\n",
        "import matplotlib.pyplot as plt\n",
        "\n",
        "def mandelbrot(c, max_iter):\n",
        "    z = 0\n",
        "    for n in range(max_iter):\n",
        "        if abs(z) > 2:\n",
        "            return n\n",
        "        z = z*z + c\n",
        "    return max_iter\n",
        "\n",
        "# Create a grid of complex numbers\n",
        "pixels = 800\n",
        "max_iter = 90\n",
        "\n",
        "center_x = 0.1\n",
        "center_y = 0.8\n",
        "zoom_level= 0.95\n",
        "x = np.linspace(center_x-zoom_level,center_x + zoom_level , pixels)\n",
        "y = np.linspace(center_y-zoom_level,center_y + zoom_level , pixels)\n",
        "xx, yy = np.meshgrid(x, y)\n",
        "c = xx + yy*1j\n",
        "\n",
        "# Compute Mandelbrot set\n",
        "mandelbrot_set = np.array([mandelbrot(ci, max_iter) for ci in c.ravel()]).reshape(c.shape)\n",
        "\n",
        "# Plot\n",
        "plt.imshow(mandelbrot_set, extent=[-2, 1, -1.5, 1.5])\n",
        "plt.colorbar()\n",
        "plt.title(\"Mandelbrot Set\")\n",
        "plt.show()\n"
      ],
      "metadata": {
        "colab": {
          "base_uri": "https://localhost:8080/",
          "height": 452
        },
        "id": "a3Cu7yBS7qZC",
        "outputId": "64936ec7-f22b-4c7d-86ed-67dfaf6d64ee"
      },
      "execution_count": null,
      "outputs": [
        {
          "output_type": "display_data",
          "data": {
            "text/plain": [
              "<Figure size 640x480 with 2 Axes>"
            ],
            "image/png": "[encoded data removed]"
          },
          "metadata": {}
        }
      ]
    },
    {
      "cell_type": "markdown",
      "source": [
        "Prove that the absolute value of a product of two complex numbers is the product of their absolute values\n",
        "\n",
        "|c1 * c2| = |c1| * |c2|\n",
        "\n",
        "Here's the step-by-step proof:\n",
        "\n",
        "  \n",
        "\n",
        "1.   Express the Complex Numbers in Terms of Their Components:\n",
        "    \n",
        "    We express the complex numbers like this:\n",
        "\n",
        "    c1 = a1 + b1i and c2 = a2 + b2i\n",
        "\n",
        "2.   Calculate the following Product c1 * c2\n",
        "\n",
        "    c1 * c2 = (a1 + b1i) * (a2 + b2i)\n",
        "\n",
        "    (a1 * a2) + (a1 * b2i) + (b1i * a2) + (b1 * b2⋅ *i^2)\n",
        "\n",
        "  Since i ^ 2 = -1\n",
        "\n",
        "    (a1 * a2) + (a1 * b2i) + (b1i * a2) + (b1 * b2⋅ (-1))\n",
        "\n",
        "    ((a1 * a2) - (b1 * b2⋅)) + ((a1 * b2) + (b1 * a2) i)\n",
        "\n",
        "    c1 * c2 = (a1 * a2 - b1 * b2⋅) + (a1 * b2 + b1 * a2 i)\n",
        "\n",
        "3.   The absolute value of a complex number is defined as |z| = sqrt(x^2 + y^2)\n",
        "\n",
        "    |c1 * c2|^2 =  (a1 * a2 - b1 * b2⋅)^2 + (a1 * b2 + b1 * a2)^2\n",
        "\n",
        "4.   Now we calculate the value of |c1| * |c2|\n",
        "\n",
        "    |c1| * |c2| = sqrt(a1^2 + b1^2) * sqrt(a2^2 + b2^2)\n",
        "\n",
        "5.  We apply the definition of absolute value on |c1 * c1|^2\n",
        "\n",
        "    |c1 * c1|^2 = (a1 * a2 - b1 * b2⋅)^2 + (a1 * b2 + b1 * a2)^2\n",
        "\n",
        "    for (a1 * a2 - b1 * b2⋅)^2:\n",
        "\n",
        "      (a1 * a2 - b1 * b2⋅)^2 = (a1*a2)^2 - 2a1*a2*b1*b2 + (b1*b2⋅)^2\n",
        "    \n",
        "    for (a1 * b2 + b1 * a2)^2:\n",
        "\n",
        "    (a1 * b2 + b1 * a2)^2 = (a1*b2)^2 + 2a1*a2*b1*b2 + (b1*a2⋅)^2\n",
        "    \n",
        "    \n",
        "\n",
        "    (a1*a2)^2 + (a1*b2)^2 + (b1*b2⋅)^2 + (b1*a2⋅)^2\n",
        "\n",
        "    = (a1^2 + b1^2) * (a2^2 + b2^2)\n",
        "\n",
        "We got from |c1 * c1|^2 to (|c1|* |c2|) ^ 2\n",
        "\n",
        "That means that |c1 * c1|^2 = (|c1|* |c2|)\n",
        "\n",
        "\n",
        "\n",
        "\n",
        "\n",
        "\n",
        "\n",
        "\n",
        "\n",
        "\n",
        "\n",
        "\n",
        "\n",
        "\n",
        "\n",
        "\n"
      ],
      "metadata": {
        "id": "lWKWgtHU6wvI"
      }
    }
  ]
}